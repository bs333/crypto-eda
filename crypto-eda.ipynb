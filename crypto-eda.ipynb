{
 "cells": [
  {
   "cell_type": "markdown",
   "metadata": {},
   "source": [
    "#### Project Description"
   ]
  },
  {
   "cell_type": "markdown",
   "metadata": {},
   "source": [
    "This section of the project involves conducting a detailed empirical analysis of the cryptocurrency market, focusing specifically on the interlinkages among various cryptocurrency assets and the broader blockchain ecosystem. The objective is to gain deeper insights into the dynamics of the crypto market through a structured examination of selected cryptocurrencies over a defined period."
   ]
  },
  {
   "cell_type": "markdown",
   "metadata": {},
   "source": [
    "##### Objectives"
   ]
  },
  {
   "cell_type": "markdown",
   "metadata": {},
   "source": [
    "- **Select and Analyze Cryptocurrencies**: Choose five cryptocurrencies based on daily price data from January 1, 2022, to December 31, 2022, and conduct a detailed analysis.\n",
    "- **Price Trend Analysis**: Plot daily price movements and analyze the trends.\n",
    "- **Volatility Assessment**: Calculate daily returns, assess volatility, and identify which cryptocurrency exhibits the most and least variation.\n",
    "- **Correlation Analysis**: Construct a correlation matrix for the cryptocurrencies to explore their interrelationships.\n",
    "- **Market Event Impact Analysis**: Examine the effect of the FTX bankruptcy on selected cryptocurrencies in November 2022.\n",
    "- **Comparative Market Analysis**: Extend the analysis to include a comparison with the S&P 500 index, analyzing similarities and differences in market behavior."
   ]
  },
  {
   "cell_type": "markdown",
   "metadata": {},
   "source": [
    "##### Tools and Libraries"
   ]
  },
  {
   "cell_type": "markdown",
   "metadata": {},
   "source": [
    "This analysis will employ several Python libraries:\n",
    "- `pandas` for data manipulation,\n",
    "- `numpy` for numerical operations,\n",
    "- `matplotlib` and `seaborn` for data visualization."
   ]
  },
  {
   "cell_type": "markdown",
   "metadata": {},
   "source": [
    "This notebook will document our analytical processes, findings, and provide a rationale behind our analysis decisions. It serves as a professional report for the project submission."
   ]
  },
  {
   "cell_type": "code",
   "execution_count": 2,
   "metadata": {},
   "outputs": [],
   "source": [
    "# Import necessary libraries\n",
    "import pandas as pd\n",
    "import numpy as np\n",
    "import matplotlib.pyplot as plt\n",
    "import seaborn as sns"
   ]
  },
  {
   "cell_type": "code",
   "execution_count": 3,
   "metadata": {},
   "outputs": [],
   "source": [
    "# Set up visualization style\n",
    "plt.style.use('ggplot')  # 'ggplot' style for all matplotlib plots\n",
    "sns.set_context('talk')  # context = \"talk\", which is ideal for presentations"
   ]
  },
  {
   "cell_type": "code",
   "execution_count": 5,
   "metadata": {},
   "outputs": [],
   "source": [
    "# Two decimal places formatting\n",
    "pd.options.display.float_format = \"{:,.2f}\".format"
   ]
  },
  {
   "cell_type": "code",
   "execution_count": 4,
   "metadata": {},
   "outputs": [],
   "source": [
    "# Debugging settings\n",
    "pd.set_option('display.max_columns', None)  # Unhide all columns if needed during debugging"
   ]
  },
  {
   "cell_type": "markdown",
   "metadata": {},
   "source": [
    "#### Selection of Cryptocurrencies\n"
   ]
  },
  {
   "cell_type": "markdown",
   "metadata": {},
   "source": [
    "For the analysis, we have selected the following five cryptocurrencies:\n",
    "\n",
    "- **Bitcoin (BTC)**: The first and most well-known cryptocurrency, often referred to as digital gold.\n",
    "- **Ethereum (ETH)**: Known for its smart contract functionality, Ethereum is a primary platform for numerous decentralized applications.\n",
    "- **XRP**: Originally created by Ripple Labs, XRP is known for its digital payment protocol more than its status as a cryptocurrency.\n",
    "- **Dogecoin (DOGE)**: Initially started as a meme, Dogecoin has garnered a significant following and use case in tipping and charitable donations.\n",
    "- **Tether (USDT)**: As a stablecoin pegged to the US dollar, Tether offers stability in the highly volatile crypto market.\n",
    "\n",
    "Each of these cryptocurrencies has been chosen to provide a diverse view across different uses and markets in the crypto ecosystem."
   ]
  }
 ],
 "metadata": {
  "kernelspec": {
   "display_name": "Python 3",
   "language": "python",
   "name": "python3"
  },
  "language_info": {
   "codemirror_mode": {
    "name": "ipython",
    "version": 3
   },
   "file_extension": ".py",
   "mimetype": "text/x-python",
   "name": "python",
   "nbconvert_exporter": "python",
   "pygments_lexer": "ipython3",
   "version": "3.11.5"
  }
 },
 "nbformat": 4,
 "nbformat_minor": 2
}

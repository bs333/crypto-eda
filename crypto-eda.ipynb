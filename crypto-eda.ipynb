{
 "cells": [
  {
   "cell_type": "markdown",
   "metadata": {},
   "source": [
    "#### Project Description"
   ]
  },
  {
   "cell_type": "markdown",
   "metadata": {},
   "source": [
    "This section of the project involves conducting a detailed empirical analysis of the cryptocurrency market, focusing specifically on the interlinkages among various cryptocurrency assets and the broader blockchain ecosystem. The objective is to gain deeper insights into the dynamics of the crypto market through a structured examination of selected cryptocurrencies over a defined period."
   ]
  },
  {
   "cell_type": "markdown",
   "metadata": {},
   "source": [
    "##### Objectives"
   ]
  },
  {
   "cell_type": "markdown",
   "metadata": {},
   "source": [
    "- **Select and Analyze Cryptocurrencies**: Choose five cryptocurrencies based on daily price data from January 1, 2022, to December 31, 2022, and conduct a detailed analysis.\n",
    "- **Price Trend Analysis**: Plot daily price movements and analyze the trends.\n",
    "- **Volatility Assessment**: Calculate daily returns, assess volatility, and identify which cryptocurrency exhibits the most and least variation.\n",
    "- **Correlation Analysis**: Construct a correlation matrix for the cryptocurrencies to explore their interrelationships.\n",
    "- **Market Event Impact Analysis**: Examine the effect of the FTX bankruptcy on selected cryptocurrencies in November 2022.\n",
    "- **Comparative Market Analysis**: Extend the analysis to include a comparison with the S&P 500 index, analyzing similarities and differences in market behavior."
   ]
  },
  {
   "cell_type": "markdown",
   "metadata": {},
   "source": [
    "##### Tools and Libraries"
   ]
  },
  {
   "cell_type": "markdown",
   "metadata": {},
   "source": [
    "This analysis will employ several Python libraries:\n",
    "- `pandas` for data manipulation,\n",
    "- `numpy` for numerical operations,\n",
    "- `matplotlib` and `seaborn` for data visualization."
   ]
  },
  {
   "cell_type": "markdown",
   "metadata": {},
   "source": [
    "This notebook will document our analytical processes, findings, and provide a rationale behind our analysis decisions. It serves as a professional report for the project submission."
   ]
  },
  {
   "cell_type": "code",
   "execution_count": 2,
   "metadata": {},
   "outputs": [],
   "source": [
    "# Import necessary libraries\n",
    "import pandas as pd\n",
    "import numpy as np\n",
    "import matplotlib.pyplot as plt\n",
    "import seaborn as sns"
   ]
  },
  {
   "cell_type": "code",
   "execution_count": 3,
   "metadata": {},
   "outputs": [],
   "source": [
    "# Set up visualization style\n",
    "plt.style.use('ggplot')  # 'ggplot' style for all matplotlib plots\n",
    "sns.set_context('talk')  # context = \"talk\", which is ideal for presentations"
   ]
  },
  {
   "cell_type": "code",
   "execution_count": 5,
   "metadata": {},
   "outputs": [],
   "source": [
    "# Two decimal places formatting\n",
    "pd.options.display.float_format = \"{:,.2f}\".format"
   ]
  },
  {
   "cell_type": "code",
   "execution_count": 4,
   "metadata": {},
   "outputs": [],
   "source": [
    "# Debugging settings\n",
    "pd.set_option('display.max_columns', None)  # Unhide all columns if needed during debugging"
   ]
  },
  {
   "cell_type": "markdown",
   "metadata": {},
   "source": [
    "#### Selection of Cryptocurrencies"
   ]
  },
  {
   "cell_type": "markdown",
   "metadata": {},
   "source": [
    "For the analysis, we have selected the following five cryptocurrencies:\n",
    "\n",
    "- **Bitcoin (BTC)**: The first and most well-known cryptocurrency, often referred to as digital gold.\n",
    "- **Ethereum (ETH)**: Known for its smart contract functionality, Ethereum is a primary platform for numerous decentralized applications.\n",
    "- **XRP**: Originally created by Ripple Labs, XRP is known for its digital payment protocol more than its status as a cryptocurrency.\n",
    "- **Dogecoin (DOGE)**: Initially started as a meme, Dogecoin has garnered a significant following and use case in tipping and charitable donations.\n",
    "- **Tether (USDT)**: As a stablecoin pegged to the US dollar, Tether offers stability in the highly volatile crypto market.\n",
    "\n",
    "Each of these cryptocurrencies has been chosen to provide a diverse view across different uses and markets in the crypto ecosystem."
   ]
  },
  {
   "cell_type": "markdown",
   "metadata": {},
   "source": [
    "##### Data Fetching"
   ]
  },
  {
   "cell_type": "markdown",
   "metadata": {},
   "source": [
    "The following Python code will be used to fetch daily price data for these cryptocurrencies from January 1, 2022, to December 31, 2022. The data is sourced from Yahoo Finance using the `pandas_datareader` library."
   ]
  },
  {
   "cell_type": "code",
   "execution_count": 29,
   "metadata": {},
   "outputs": [],
   "source": [
    "# More libraries\n",
    "import yfinance as yf\n",
    "from pandas import DataFrame\n",
    "from datetime import datetime"
   ]
  },
  {
   "cell_type": "code",
   "execution_count": 20,
   "metadata": {},
   "outputs": [],
   "source": [
    "# Data timeframe\n",
    "start_date = '2022-01-01'\n",
    "end_date = '2022-12-31'\n",
    "\n",
    "# Crypto tickers (yf)\n",
    "cryptos = ['BTC-USD', 'ETH-USD', 'XRP-USD', 'DOGE-USD', 'USDT-USD']\n",
    "\n",
    "# Fetch data\n",
    "crypto_data = {crypto: yf.Ticker(crypto).history(start=start_date, end=end_date) for crypto in cryptos}"
   ]
  },
  {
   "cell_type": "code",
   "execution_count": 30,
   "metadata": {},
   "outputs": [],
   "source": [
    "# Function to display head and tail of the DataFrame\n",
    "def display_head_tail(df: DataFrame, num_rows: int = 3) -> None:\n",
    "    display(pd.concat([df.head(num_rows), df.tail(num_rows)]))"
   ]
  },
  {
   "cell_type": "code",
   "execution_count": 24,
   "metadata": {},
   "outputs": [
    {
     "name": "stdout",
     "output_type": "stream",
     "text": [
      "Sample data for Bitcoin (BTC-USD):\n",
      "                               Open      High       Low     Close   \n",
      "Date                                                                \n",
      "2022-01-01 00:00:00+00:00 46,311.75 47,827.31 46,288.48 47,686.81  \\\n",
      "2022-01-02 00:00:00+00:00 47,680.93 47,881.41 46,856.94 47,345.22   \n",
      "2022-01-03 00:00:00+00:00 47,343.54 47,510.73 45,835.96 46,458.12   \n",
      "2022-01-04 00:00:00+00:00 46,458.85 47,406.55 45,752.46 45,897.57   \n",
      "2022-01-05 00:00:00+00:00 45,899.36 46,929.05 42,798.22 43,569.00   \n",
      "\n",
      "                                Volume  Dividends  Stock Splits  \n",
      "Date                                                             \n",
      "2022-01-01 00:00:00+00:00  24582667004       0.00          0.00  \n",
      "2022-01-02 00:00:00+00:00  27951569547       0.00          0.00  \n",
      "2022-01-03 00:00:00+00:00  33071628362       0.00          0.00  \n",
      "2022-01-04 00:00:00+00:00  42494677905       0.00          0.00  \n",
      "2022-01-05 00:00:00+00:00  36851084859       0.00          0.00  \n"
     ]
    }
   ],
   "source": [
    "# BTC head\n",
    "print(\"Sample data for Bitcoin (BTC-USD):\")\n",
    "print(crypto_data['BTC-USD'].head())"
   ]
  },
  {
   "cell_type": "code",
   "execution_count": 23,
   "metadata": {},
   "outputs": [
    {
     "name": "stdout",
     "output_type": "stream",
     "text": [
      "Sample data for Ethereum (ETH-USD):\n",
      "                              Open     High      Low    Close       Volume   \n",
      "Date                                                                         \n",
      "2022-01-01 00:00:00+00:00 3,683.05 3,769.92 3,682.29 3,769.70   9776191466  \\\n",
      "2022-01-02 00:00:00+00:00 3,769.30 3,836.16 3,727.36 3,829.56   9881471548   \n",
      "2022-01-03 00:00:00+00:00 3,829.54 3,836.20 3,698.05 3,761.38  12080777893   \n",
      "2022-01-04 00:00:00+00:00 3,761.36 3,876.79 3,723.35 3,794.06  14030925983   \n",
      "2022-01-05 00:00:00+00:00 3,794.27 3,842.06 3,456.75 3,550.39  18061338502   \n",
      "\n",
      "                           Dividends  Stock Splits  \n",
      "Date                                                \n",
      "2022-01-01 00:00:00+00:00       0.00          0.00  \n",
      "2022-01-02 00:00:00+00:00       0.00          0.00  \n",
      "2022-01-03 00:00:00+00:00       0.00          0.00  \n",
      "2022-01-04 00:00:00+00:00       0.00          0.00  \n",
      "2022-01-05 00:00:00+00:00       0.00          0.00  \n"
     ]
    }
   ],
   "source": [
    "# ETH head\n",
    "print(\"Sample data for Ethereum (ETH-USD):\")\n",
    "print(crypto_data['ETH-USD'].head())"
   ]
  },
  {
   "cell_type": "code",
   "execution_count": 26,
   "metadata": {},
   "outputs": [
    {
     "name": "stdout",
     "output_type": "stream",
     "text": [
      "Sample data for Dogecoin (DOGE-USD):\n",
      "                           Open  High  Low  Close     Volume  Dividends   \n",
      "Date                                                                      \n",
      "2022-01-01 00:00:00+00:00  0.17  0.17 0.17   0.17  371336089       0.00  \\\n",
      "2022-01-02 00:00:00+00:00  0.17  0.18 0.17   0.17  391041933       0.00   \n",
      "2022-01-03 00:00:00+00:00  0.17  0.17 0.17   0.17  505900382       0.00   \n",
      "2022-01-04 00:00:00+00:00  0.17  0.17 0.17   0.17  541922892       0.00   \n",
      "2022-01-05 00:00:00+00:00  0.17  0.17 0.15   0.16  994086848       0.00   \n",
      "\n",
      "                           Stock Splits  \n",
      "Date                                     \n",
      "2022-01-01 00:00:00+00:00          0.00  \n",
      "2022-01-02 00:00:00+00:00          0.00  \n",
      "2022-01-03 00:00:00+00:00          0.00  \n",
      "2022-01-04 00:00:00+00:00          0.00  \n",
      "2022-01-05 00:00:00+00:00          0.00  \n"
     ]
    }
   ],
   "source": [
    "# Doge head\n",
    "print(\"Sample data for Dogecoin (DOGE-USD):\")\n",
    "print(crypto_data['DOGE-USD'].head())"
   ]
  },
  {
   "cell_type": "code",
   "execution_count": 27,
   "metadata": {},
   "outputs": [
    {
     "name": "stdout",
     "output_type": "stream",
     "text": [
      "Sample data for Tether (USDT-USD):\n",
      "                           Open  High  Low  Close       Volume  Dividends   \n",
      "Date                                                                        \n",
      "2022-01-01 00:00:00+00:00  1.00  1.00 1.00   1.00  43336209524       0.00  \\\n",
      "2022-01-02 00:00:00+00:00  1.00  1.00 1.00   1.00  43202922802       0.00   \n",
      "2022-01-03 00:00:00+00:00  1.00  1.00 1.00   1.00  54125933259       0.00   \n",
      "2022-01-04 00:00:00+00:00  1.00  1.00 1.00   1.00  60765931554       0.00   \n",
      "2022-01-05 00:00:00+00:00  1.00  1.00 1.00   1.00  77225535519       0.00   \n",
      "\n",
      "                           Stock Splits  \n",
      "Date                                     \n",
      "2022-01-01 00:00:00+00:00          0.00  \n",
      "2022-01-02 00:00:00+00:00          0.00  \n",
      "2022-01-03 00:00:00+00:00          0.00  \n",
      "2022-01-04 00:00:00+00:00          0.00  \n",
      "2022-01-05 00:00:00+00:00          0.00  \n"
     ]
    }
   ],
   "source": [
    "# Tether head\n",
    "print(\"Sample data for Tether (USDT-USD):\")\n",
    "print(crypto_data['USDT-USD'].head())"
   ]
  },
  {
   "cell_type": "code",
   "execution_count": 19,
   "metadata": {},
   "outputs": [
    {
     "name": "stdout",
     "output_type": "stream",
     "text": [
      "\n",
      "Missing data in BTC-USD:\n",
      "Open            0\n",
      "High            0\n",
      "Low             0\n",
      "Close           0\n",
      "Volume          0\n",
      "Dividends       0\n",
      "Stock Splits    0\n",
      "dtype: int64\n",
      "\n",
      "Missing data in ETH-USD:\n",
      "Open            0\n",
      "High            0\n",
      "Low             0\n",
      "Close           0\n",
      "Volume          0\n",
      "Dividends       0\n",
      "Stock Splits    0\n",
      "dtype: int64\n",
      "\n",
      "Missing data in XRP-USD:\n",
      "Open            0\n",
      "High            0\n",
      "Low             0\n",
      "Close           0\n",
      "Volume          0\n",
      "Dividends       0\n",
      "Stock Splits    0\n",
      "dtype: int64\n",
      "\n",
      "Missing data in DOGE-USD:\n",
      "Open            0\n",
      "High            0\n",
      "Low             0\n",
      "Close           0\n",
      "Volume          0\n",
      "Dividends       0\n",
      "Stock Splits    0\n",
      "dtype: int64\n",
      "\n",
      "Missing data in USDT-USD:\n",
      "Open            0\n",
      "High            0\n",
      "Low             0\n",
      "Close           0\n",
      "Volume          0\n",
      "Dividends       0\n",
      "Stock Splits    0\n",
      "dtype: int64\n"
     ]
    }
   ],
   "source": [
    "# NaN check\n",
    "for crypto, data in crypto_data.items():\n",
    "    print(f\"\\nMissing data in {crypto}:\")\n",
    "    print(data.isnull().sum())"
   ]
  }
 ],
 "metadata": {
  "kernelspec": {
   "display_name": "Python 3",
   "language": "python",
   "name": "python3"
  },
  "language_info": {
   "codemirror_mode": {
    "name": "ipython",
    "version": 3
   },
   "file_extension": ".py",
   "mimetype": "text/x-python",
   "name": "python",
   "nbconvert_exporter": "python",
   "pygments_lexer": "ipython3",
   "version": "3.11.5"
  }
 },
 "nbformat": 4,
 "nbformat_minor": 2
}
